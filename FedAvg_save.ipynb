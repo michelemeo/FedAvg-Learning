{
  "nbformat": 4,
  "nbformat_minor": 0,
  "metadata": {
    "colab": {
      "provenance": []
    },
    "kernelspec": {
      "name": "python3",
      "display_name": "Python 3"
    },
    "language_info": {
      "name": "python"
    },
    "accelerator": "GPU",
    "gpuClass": "standard"
  },
  "cells": [
    {
      "cell_type": "code",
      "execution_count": null,
      "metadata": {
        "id": "1-_nBwxSfgBT"
      },
      "outputs": [],
      "source": [
        "import tensorflow as tf\n",
        "import tensorflow_datasets as tfds\n",
        "import numpy as np\n",
        "import matplotlib.pyplot as plt"
      ]
    },
    {
      "cell_type": "code",
      "source": [
        "from tensorflow.keras import layers\n",
        "from tensorflow.keras import losses, optimizers, metrics, callbacks\n",
        "from tensorflow.python.data.ops.options import model_pb2\n",
        "from keras.engine.training import Model"
      ],
      "metadata": {
        "id": "yjpbFHeMfmPV"
      },
      "execution_count": null,
      "outputs": []
    },
    {
      "cell_type": "code",
      "source": [
        "tf.random.set_seed(12345)\n",
        "np.random.seed(12345)"
      ],
      "metadata": {
        "id": "nhwS6cPaAEMC"
      },
      "execution_count": null,
      "outputs": []
    },
    {
      "cell_type": "code",
      "source": [
        "from google.colab import drive\n",
        "drive.mount('/content/drive')"
      ],
      "metadata": {
        "colab": {
          "base_uri": "https://localhost:8080/"
        },
        "id": "YvOObmjqfp-N",
        "outputId": "b4f8e99a-b4fd-436a-eb5f-6b0783582ce2"
      },
      "execution_count": null,
      "outputs": [
        {
          "output_type": "stream",
          "name": "stdout",
          "text": [
            "Mounted at /content/drive\n"
          ]
        }
      ]
    },
    {
      "cell_type": "code",
      "source": [
        "histo = tfds.load('colorectal_histology', as_supervised=True, data_dir='/content/drive/MyDrive/NN')\n",
        "histo = histo['train']"
      ],
      "metadata": {
        "id": "pJMd4bzMfq0f"
      },
      "execution_count": null,
      "outputs": []
    },
    {
      "cell_type": "code",
      "source": [
        "def preprocess(image,label):\n",
        "  image = tf.cast(image,tf.float32) / 255.0\n",
        "  return image, label\n",
        "\n",
        "\n",
        "def add_conv_block(x, filters=64, kernel_size=3, stride_step=2, batch_norm=True, maxpool=False):\n",
        "  # A function to add a block to the model, composed of Conv2D/BatchNormalization/(optional)MaxPool/ReLU.\n",
        "  # l2 regularization and glorot normal initialization for conv layer, padding is always used\n",
        "  # for conv layer and maxpool, that is proposed only with a pool size of 2.\n",
        "\n",
        "  if maxpool == True: stride_step = 1\n",
        "\n",
        "  x = layers.Conv2D(filters, kernel_size, strides=stride_step, padding='same',\n",
        "                    kernel_regularizer=tf.keras.regularizers.l2(1e-3),\n",
        "                    kernel_initializer=tf.keras.initializers.glorot_normal)(x)\n",
        "\n",
        "  if maxpool == True: x = layers.MaxPool2D(pool_size=2, padding='same')(x)\n",
        "\n",
        "  if batch_norm == True: x = layers.BatchNormalization()(x)\n",
        "\n",
        "  x = layers.ReLU()(x)\n",
        "\n",
        "  return x"
      ],
      "metadata": {
        "id": "ATmz_xomrB6b"
      },
      "execution_count": null,
      "outputs": []
    },
    {
      "cell_type": "code",
      "source": [
        "def normalization_class_per_agent(class_portions, class_tot):\n",
        "\n",
        "  tot_class_portions = np.sum(class_portions)\n",
        "\n",
        "  if tot_class_portions > class_tot:\n",
        "    class_portions[-1] -=  tot_class_portions - class_tot\n",
        "  elif tot_class_portions < class_tot:\n",
        "    class_portions[-1] += class_tot - tot_class_portions\n",
        "\n",
        "  return np.array(list(class_portions), dtype=int), np.cumsum([0] + list(class_portions), dtype=int)\n",
        "\n",
        "\n",
        "def distribute_over_agents(data, classes, agents, var, bs):\n",
        "\n",
        "  # Splitting data by labels\n",
        "  split_by_label = [data.filter(lambda features, label: label==i) for i in range(classes)]\n",
        "\n",
        "  # Counting number of observations by label\n",
        "  class_size = []\n",
        "\n",
        "  for label in split_by_label:\n",
        "    counter = 0\n",
        "    for obs in label:\n",
        "      counter += 1\n",
        "    class_size.append(counter)\n",
        "\n",
        "  # Generating Non-IID shards following given class-per-agent variance\n",
        "  mu = 1\n",
        "  shards = [[] for c in range(agents)]\n",
        "  shards_size = {c:[] for c in range(agents)}\n",
        "\n",
        "  for c in range(classes):\n",
        "    class_portions = np.clip(np.random.normal(mu, var, size=agents), 0, None)\n",
        "    class_portions = np.round((class_portions/sum(class_portions)) * class_size[c])\n",
        "    class_portions, cum_class_portions = normalization_class_per_agent(class_portions, class_size[c])\n",
        "\n",
        "    for agent in range(agents):\n",
        "      shards_size[agent].append(class_portions[agent])\n",
        "      shards[agent].append(split_by_label[c].skip(cum_class_portions[agent]).take(class_portions[agent]))\n",
        "\n",
        "  # Concatenating classes for each shard + creating ready list of datasets with batches\n",
        "  new_shards = []\n",
        "  for a in range(agents):\n",
        "    tmp_shard = shards[a][0]\n",
        "    for c in range(classes-1):\n",
        "      tmp_shard = tf.data.Dataset.concatenate(tmp_shard, shards[a][c+1])\n",
        "    new_shards.append(tmp_shard.shuffle(len(data)).batch(bs))\n",
        "\n",
        "  return new_shards, shards_size"
      ],
      "metadata": {
        "id": "20idUNNFrS2T"
      },
      "execution_count": null,
      "outputs": []
    },
    {
      "cell_type": "code",
      "source": [
        "# versione 2 --- con target\n",
        "\n",
        "class Federated:\n",
        "\n",
        "\n",
        "  def __init__(self, data, agents, distribution='IID', var=0.2):\n",
        "    self.data = data.shuffle(len(data), reshuffle_each_iteration=False).map(preprocess)     # provando con uno shuffle iniziale, equivale a fare sample sulle singole classi dopo e fare subito preprocess per evitare problemi di compatibilità nello split\n",
        "    self.data_shape = next(iter(self.data))[0].shape\n",
        "    self.agents = agents\n",
        "    self.labels = set([int(obs[1]) for obs in data])\n",
        "    self.classes = len(self.labels)\n",
        "    self.distribution = distribution\n",
        "\n",
        "    self.N = len(data)\n",
        "    self.train_size = int(self.N*0.9)\n",
        "    self.test_size = int(self.N*0.1)\n",
        "\n",
        "    self.train = self.data.take(self.train_size)\n",
        "    self.test = self.data.skip(self.train_size).take(self.test_size).batch(32)\n",
        "    split_train = int(self.train_size/self.agents)\n",
        "    self.bs = 10\n",
        "    self.var = var\n",
        "    if distribution == 'IID':\n",
        "      self.local_train = [self.train.skip(i*split_train).take(split_train).shuffle(self.N).batch(self.bs) for i in range(self.agents)]\n",
        "    elif distribution == 'Non-IID':\n",
        "      self.local_train, self.shards_size = distribute_over_agents(self.train, self.classes, self.agents, self.var, self.bs)\n",
        "\n",
        "\n",
        "  def CNN(self):\n",
        "\n",
        "    inp = layers.Input(shape=self.data_shape)\n",
        "\n",
        "    conv1 = add_conv_block(inp, maxpool=True)\n",
        "    conv2 = add_conv_block(conv1, filters=128)\n",
        "    conv3_and_pool = add_conv_block(conv2, filters=128, maxpool=True)\n",
        "    conv4 = add_conv_block(conv3_and_pool, filters=256)\n",
        "    conv5_and_pool = add_conv_block(conv4, filters=256, maxpool=True)\n",
        "\n",
        "    average_pooling = layers.GlobalAveragePooling2D()(conv5_and_pool)\n",
        "    dense = layers.Dense(250, activation='relu',\n",
        "                    kernel_regularizer=tf.keras.regularizers.l2(1e-4))(average_pooling)\n",
        "\n",
        "    out = layers.Dense(self.classes, activation='softmax')(dense)\n",
        "\n",
        "    model = tf.keras.Model(inp, out)\n",
        "\n",
        "    return model\n",
        "\n",
        "\n",
        "  def aggregation(self, local_weights_path, model):\n",
        "\n",
        "    local_weights = []\n",
        "\n",
        "    for k in range(self.agents):\n",
        "      model.load_weights( local_weights_path+str(k) )\n",
        "      local_weights.append(model.get_weights())\n",
        "\n",
        "    layers = len(local_weights[0])\n",
        "    global_layers = []\n",
        "\n",
        "    if self.distribution == 'IID':\n",
        "      obs_per_agent = [len(self.local_train[i])*self.bs for i in range(self.agents)]\n",
        "    elif self.distribution == 'Non-IID':\n",
        "      obs_per_agent = [sum(self.shards_size[a]) for a in range(self.agents)]\n",
        "\n",
        "    for l in range(layers):\n",
        "      aggr = 0\n",
        "      for k in range(self.agents):\n",
        "        aggr += local_weights[k][l] * ((obs_per_agent[k])/self.train_size)  #occhio che train size forse andrà cambiato qui più avanti\n",
        "                                                                          #se ogni agent avrà il suo data-shard fissato\n",
        "      global_layers.append(aggr)\n",
        "\n",
        "    return global_layers\n",
        "\n",
        "\n",
        "  def AverageLearning(self, model, rounds, local_epochs, target_acc=False):\n",
        "\n",
        "    model.compile(loss=losses.SparseCategoricalCrossentropy(from_logits=False),\n",
        "                optimizer=optimizers.Adam(),\n",
        "                metrics=[metrics.SparseCategoricalAccuracy()])\n",
        "    global_weights = model.get_weights()\n",
        "\n",
        "    if target_acc != False: rounds = 100\n",
        "\n",
        "    # Preparing paths to save models weights\n",
        "    project_dir = '/content/drive/MyDrive/Colab Notebooks/SPBDproject'\n",
        "    weights_path = project_dir + '/local_checkpoints/local_'\n",
        "    global_path = project_dir + '/global_checkpoints/global_'\n",
        "\n",
        "    for r in range(rounds):\n",
        "\n",
        "      local_weights = []\n",
        "\n",
        "      for k in range(self.agents):\n",
        "\n",
        "        model.set_weights(global_weights)\n",
        "\n",
        "        model.fit(self.local_train[k], epochs=local_epochs, verbose=0)\n",
        "        model.evaluate(self.test)\n",
        "\n",
        "        local_path = weights_path+str(k)\n",
        "        model.save_weights(local_path)\n",
        "\n",
        "      global_weights = self.aggregation(weights_path, model)\n",
        "      print(\"Global test:\")\n",
        "      model.set_weights(global_weights)\n",
        "      global_loss, global_acc = model.evaluate(self.test)\n",
        "      print()\n",
        "\n",
        "      model.save_weights( global_path+str(r) )\n",
        "\n",
        "      if target_acc != False:\n",
        "        if global_acc > target_acc: break\n",
        "\n",
        "\n",
        "  def AverageLearningWithTarget(self, model, target, local_epochs):\n",
        "\n",
        "    model.compile(loss=losses.SparseCategoricalCrossentropy(from_logits=False),\n",
        "                optimizer=optimizers.Adam(),\n",
        "                metrics=[metrics.SparseCategoricalAccuracy()])\n",
        "    global_weights = model.get_weights()\n",
        "    global_acc = 0\n",
        "\n",
        "    while(target > global_acc):\n",
        "\n",
        "      local_weights = []\n",
        "\n",
        "      for k in range(self.agents):\n",
        "\n",
        "        model.set_weights(global_weights)\n",
        "\n",
        "        model.fit(self.local_train[k], epochs=local_epochs, verbose=0)\n",
        "        model.evaluate(self.test)\n",
        "\n",
        "        local_weights.append(model.get_weights())\n",
        "\n",
        "      global_weights = self.aggregation(local_weights)\n",
        "      print(\"Global test:\")\n",
        "      model.set_weights(global_weights)\n",
        "      global_loss, global_acc = model.evaluate(self.test)\n",
        "      print()\n"
      ],
      "metadata": {
        "id": "fbDdDQLSfd7Z"
      },
      "execution_count": null,
      "outputs": []
    },
    {
      "cell_type": "code",
      "source": [
        "trial = Federated(histo, 3, distribution='Non-IID', var=0.2)  #run this"
      ],
      "metadata": {
        "id": "vtsgTpqcfq6E"
      },
      "execution_count": null,
      "outputs": []
    },
    {
      "cell_type": "code",
      "source": [
        "trial_model = trial.CNN()"
      ],
      "metadata": {
        "id": "6UWB1Znmfq9l"
      },
      "execution_count": null,
      "outputs": []
    },
    {
      "cell_type": "code",
      "source": [
        "trial.AverageLearning(trial_model, rounds=10, local_epochs=5, target_acc=0.8)"
      ],
      "metadata": {
        "colab": {
          "base_uri": "https://localhost:8080/"
        },
        "id": "xxsv_OcZfrCW",
        "outputId": "2f3e1249-c7dd-4ef0-e908-7e10636c03e7"
      },
      "execution_count": null,
      "outputs": [
        {
          "output_type": "stream",
          "name": "stdout",
          "text": [
            "16/16 [==============================] - 5s 34ms/step - loss: 1.8591 - sparse_categorical_accuracy: 0.3700\n",
            "16/16 [==============================] - 5s 20ms/step - loss: 3.1322 - sparse_categorical_accuracy: 0.3260\n",
            "16/16 [==============================] - 5s 21ms/step - loss: 3.4478 - sparse_categorical_accuracy: 0.3800\n",
            "Global test:\n",
            "16/16 [==============================] - 6s 19ms/step - loss: 2.2471 - sparse_categorical_accuracy: 0.2740\n",
            "\n",
            "16/16 [==============================] - 4s 19ms/step - loss: 1.4724 - sparse_categorical_accuracy: 0.5880\n",
            "16/16 [==============================] - 5s 20ms/step - loss: 1.3273 - sparse_categorical_accuracy: 0.5960\n",
            "16/16 [==============================] - 4s 19ms/step - loss: 3.4498 - sparse_categorical_accuracy: 0.2420\n",
            "Global test:\n",
            "16/16 [==============================] - 6s 19ms/step - loss: 1.0590 - sparse_categorical_accuracy: 0.6700\n",
            "\n",
            "16/16 [==============================] - 6s 23ms/step - loss: 1.3731 - sparse_categorical_accuracy: 0.5820\n",
            "16/16 [==============================] - 6s 18ms/step - loss: 1.5760 - sparse_categorical_accuracy: 0.4980\n",
            "16/16 [==============================] - 4s 18ms/step - loss: 3.6536 - sparse_categorical_accuracy: 0.5240\n",
            "Global test:\n",
            "16/16 [==============================] - 6s 23ms/step - loss: 1.1342 - sparse_categorical_accuracy: 0.6540\n",
            "\n",
            "16/16 [==============================] - 4s 18ms/step - loss: 0.7555 - sparse_categorical_accuracy: 0.7940\n",
            "16/16 [==============================] - 4s 20ms/step - loss: 1.2637 - sparse_categorical_accuracy: 0.6820\n",
            "16/16 [==============================] - 6s 20ms/step - loss: 1.1139 - sparse_categorical_accuracy: 0.6660\n",
            "Global test:\n",
            "16/16 [==============================] - 4s 19ms/step - loss: 0.9247 - sparse_categorical_accuracy: 0.7040\n",
            "\n",
            "16/16 [==============================] - 4s 18ms/step - loss: 0.8330 - sparse_categorical_accuracy: 0.7680\n",
            "16/16 [==============================] - 5s 21ms/step - loss: 1.2580 - sparse_categorical_accuracy: 0.6400\n",
            "16/16 [==============================] - 4s 20ms/step - loss: 1.8323 - sparse_categorical_accuracy: 0.5820\n",
            "Global test:\n",
            "16/16 [==============================] - 6s 18ms/step - loss: 0.9666 - sparse_categorical_accuracy: 0.7080\n",
            "\n",
            "16/16 [==============================] - 5s 20ms/step - loss: 1.6713 - sparse_categorical_accuracy: 0.6440\n",
            "16/16 [==============================] - 5s 19ms/step - loss: 0.6848 - sparse_categorical_accuracy: 0.8360\n",
            "16/16 [==============================] - 5s 20ms/step - loss: 2.3263 - sparse_categorical_accuracy: 0.4800\n",
            "Global test:\n",
            "16/16 [==============================] - 5s 25ms/step - loss: 0.7332 - sparse_categorical_accuracy: 0.7720\n",
            "\n",
            "16/16 [==============================] - 5s 19ms/step - loss: 1.4904 - sparse_categorical_accuracy: 0.6680\n",
            "16/16 [==============================] - 6s 19ms/step - loss: 0.9795 - sparse_categorical_accuracy: 0.7060\n",
            "16/16 [==============================] - 5s 20ms/step - loss: 1.1207 - sparse_categorical_accuracy: 0.6640\n",
            "Global test:\n",
            "16/16 [==============================] - 6s 23ms/step - loss: 0.9060 - sparse_categorical_accuracy: 0.7120\n",
            "\n",
            "16/16 [==============================] - 4s 18ms/step - loss: 4.3400 - sparse_categorical_accuracy: 0.5040\n",
            "16/16 [==============================] - 4s 20ms/step - loss: 1.0337 - sparse_categorical_accuracy: 0.7260\n",
            "16/16 [==============================] - 4s 19ms/step - loss: 1.3728 - sparse_categorical_accuracy: 0.6240\n",
            "Global test:\n",
            "16/16 [==============================] - 4s 19ms/step - loss: 0.7095 - sparse_categorical_accuracy: 0.7860\n",
            "\n",
            "16/16 [==============================] - 6s 24ms/step - loss: 1.5986 - sparse_categorical_accuracy: 0.5620\n",
            "16/16 [==============================] - 5s 19ms/step - loss: 0.6881 - sparse_categorical_accuracy: 0.8320\n",
            "16/16 [==============================] - 5s 21ms/step - loss: 1.4745 - sparse_categorical_accuracy: 0.5260\n",
            "Global test:\n",
            "16/16 [==============================] - 5s 23ms/step - loss: 0.5564 - sparse_categorical_accuracy: 0.8580\n",
            "\n"
          ]
        }
      ]
    },
    {
      "cell_type": "code",
      "source": [
        "# NonIID (0.2 var), 3 agents, 5 local epochs - 9 rounds - 1h40m"
      ],
      "metadata": {
        "colab": {
          "base_uri": "https://localhost:8080/"
        },
        "id": "9UEC8coP8oax",
        "outputId": "7b141cbb-66f9-4017-cdf2-cc798cfc9089"
      },
      "execution_count": null,
      "outputs": [
        {
          "output_type": "execute_result",
          "data": {
            "text/plain": [
              "4500"
            ]
          },
          "metadata": {},
          "execution_count": 10
        }
      ]
    },
    {
      "cell_type": "code",
      "source": [
        "trial = Federated(histo, 3, distribution='IID', var=0.2)  #run this"
      ],
      "metadata": {
        "id": "KTDo2lZyIFlC"
      },
      "execution_count": null,
      "outputs": []
    },
    {
      "cell_type": "code",
      "source": [
        "trial_model = trial.CNN()"
      ],
      "metadata": {
        "id": "F3qMdJl5kIBf"
      },
      "execution_count": null,
      "outputs": []
    },
    {
      "cell_type": "code",
      "source": [
        "trial.AverageLearning(trial_model, rounds=10, local_epochs=5, target_acc=0.8)"
      ],
      "metadata": {
        "colab": {
          "base_uri": "https://localhost:8080/"
        },
        "id": "RPHKJxcEkKRs",
        "outputId": "f9e27ddd-3834-45e4-cedf-9cda8f3ec158"
      },
      "execution_count": null,
      "outputs": [
        {
          "output_type": "stream",
          "name": "stdout",
          "text": [
            "16/16 [==============================] - 6s 36ms/step - loss: 2.8947 - sparse_categorical_accuracy: 0.3620\n",
            "16/16 [==============================] - 5s 21ms/step - loss: 4.6300 - sparse_categorical_accuracy: 0.3640\n",
            "16/16 [==============================] - 5s 22ms/step - loss: 2.7612 - sparse_categorical_accuracy: 0.3660\n",
            "Global test:\n",
            "16/16 [==============================] - 6s 23ms/step - loss: 2.0742 - sparse_categorical_accuracy: 0.2600\n",
            "\n",
            "16/16 [==============================] - 6s 21ms/step - loss: 0.9756 - sparse_categorical_accuracy: 0.6760\n",
            "16/16 [==============================] - 5s 18ms/step - loss: 1.0515 - sparse_categorical_accuracy: 0.6660\n",
            "16/16 [==============================] - 6s 20ms/step - loss: 1.1480 - sparse_categorical_accuracy: 0.6280\n",
            "Global test:\n",
            "16/16 [==============================] - 5s 21ms/step - loss: 1.4589 - sparse_categorical_accuracy: 0.5520\n",
            "\n",
            "16/16 [==============================] - 5s 21ms/step - loss: 1.0686 - sparse_categorical_accuracy: 0.6460\n",
            "16/16 [==============================] - 4s 18ms/step - loss: 2.7294 - sparse_categorical_accuracy: 0.3580\n",
            "16/16 [==============================] - 5s 20ms/step - loss: 1.1849 - sparse_categorical_accuracy: 0.6100\n",
            "Global test:\n",
            "16/16 [==============================] - 7s 20ms/step - loss: 1.4511 - sparse_categorical_accuracy: 0.5720\n",
            "\n",
            "16/16 [==============================] - 5s 20ms/step - loss: 1.1115 - sparse_categorical_accuracy: 0.6880\n",
            "16/16 [==============================] - 5s 26ms/step - loss: 1.7372 - sparse_categorical_accuracy: 0.4440\n",
            "16/16 [==============================] - 4s 18ms/step - loss: 2.0143 - sparse_categorical_accuracy: 0.3640\n",
            "Global test:\n",
            "16/16 [==============================] - 5s 20ms/step - loss: 1.0520 - sparse_categorical_accuracy: 0.7020\n",
            "\n",
            "16/16 [==============================] - 4s 18ms/step - loss: 1.4556 - sparse_categorical_accuracy: 0.5860\n",
            "16/16 [==============================] - 6s 20ms/step - loss: 1.3429 - sparse_categorical_accuracy: 0.6440\n",
            "16/16 [==============================] - 5s 21ms/step - loss: 1.3655 - sparse_categorical_accuracy: 0.6220\n",
            "Global test:\n",
            "16/16 [==============================] - 6s 18ms/step - loss: 1.0136 - sparse_categorical_accuracy: 0.7060\n",
            "\n",
            "16/16 [==============================] - 5s 21ms/step - loss: 3.3026 - sparse_categorical_accuracy: 0.5000\n",
            "16/16 [==============================] - 4s 18ms/step - loss: 0.8520 - sparse_categorical_accuracy: 0.7420\n",
            "16/16 [==============================] - 4s 18ms/step - loss: 0.8388 - sparse_categorical_accuracy: 0.7640\n",
            "Global test:\n",
            "16/16 [==============================] - 4s 19ms/step - loss: 1.1149 - sparse_categorical_accuracy: 0.6660\n",
            "\n",
            "16/16 [==============================] - 4s 18ms/step - loss: 2.9752 - sparse_categorical_accuracy: 0.3120\n",
            "16/16 [==============================] - 7s 20ms/step - loss: 0.8971 - sparse_categorical_accuracy: 0.7700\n",
            "16/16 [==============================] - 5s 22ms/step - loss: 2.7601 - sparse_categorical_accuracy: 0.3300\n",
            "Global test:\n",
            "16/16 [==============================] - 7s 21ms/step - loss: 0.8621 - sparse_categorical_accuracy: 0.7220\n",
            "\n",
            "16/16 [==============================] - 4s 19ms/step - loss: 3.0829 - sparse_categorical_accuracy: 0.5180\n",
            "16/16 [==============================] - 4s 18ms/step - loss: 1.9408 - sparse_categorical_accuracy: 0.4680\n",
            "16/16 [==============================] - 4s 19ms/step - loss: 1.0254 - sparse_categorical_accuracy: 0.6540\n",
            "Global test:\n",
            "16/16 [==============================] - 6s 21ms/step - loss: 0.5817 - sparse_categorical_accuracy: 0.8620\n",
            "\n"
          ]
        }
      ]
    },
    {
      "cell_type": "code",
      "source": [
        "# IID (uniform shuffle), 3 agents, 5 local epochs - 8 rounds - 20m"
      ],
      "metadata": {
        "id": "GE0jVuGMkPwc"
      },
      "execution_count": null,
      "outputs": []
    },
    {
      "cell_type": "code",
      "source": [
        "trial = Federated(histo, 3, distribution='Non-IID', var=0.5)  #run this"
      ],
      "metadata": {
        "id": "S_qYsjq6pZw9"
      },
      "execution_count": null,
      "outputs": []
    },
    {
      "cell_type": "code",
      "source": [
        "trial_model = trial.CNN()"
      ],
      "metadata": {
        "id": "Zs0Cv42BpZ0H"
      },
      "execution_count": null,
      "outputs": []
    },
    {
      "cell_type": "code",
      "source": [
        "trial.AverageLearning(trial_model, rounds=10, local_epochs=5, target_acc=0.8)"
      ],
      "metadata": {
        "colab": {
          "base_uri": "https://localhost:8080/"
        },
        "id": "GnLnS78IpZ3w",
        "outputId": "991b1bb0-cfa3-407b-fb63-9ab3b7121894"
      },
      "execution_count": null,
      "outputs": [
        {
          "output_type": "stream",
          "name": "stdout",
          "text": [
            "16/16 [==============================] - 5s 34ms/step - loss: 3.3115 - sparse_categorical_accuracy: 0.3080\n",
            "16/16 [==============================] - 4s 19ms/step - loss: 1.3030 - sparse_categorical_accuracy: 0.5620\n",
            "16/16 [==============================] - 4s 22ms/step - loss: 2.4099 - sparse_categorical_accuracy: 0.4680\n",
            "Global test:\n",
            "16/16 [==============================] - 5s 20ms/step - loss: 1.9333 - sparse_categorical_accuracy: 0.4560\n",
            "\n",
            "16/16 [==============================] - 4s 20ms/step - loss: 2.3684 - sparse_categorical_accuracy: 0.4580\n",
            "16/16 [==============================] - 6s 19ms/step - loss: 1.5726 - sparse_categorical_accuracy: 0.5980\n",
            "16/16 [==============================] - 6s 22ms/step - loss: 5.2387 - sparse_categorical_accuracy: 0.3000\n",
            "Global test:\n",
            "16/16 [==============================] - 5s 22ms/step - loss: 1.8429 - sparse_categorical_accuracy: 0.3620\n",
            "\n",
            "16/16 [==============================] - 4s 20ms/step - loss: 0.9313 - sparse_categorical_accuracy: 0.7220\n",
            "16/16 [==============================] - 4s 19ms/step - loss: 4.7058 - sparse_categorical_accuracy: 0.4440\n",
            "16/16 [==============================] - 5s 19ms/step - loss: 1.6195 - sparse_categorical_accuracy: 0.5600\n",
            "Global test:\n",
            "16/16 [==============================] - 6s 19ms/step - loss: 1.0359 - sparse_categorical_accuracy: 0.6800\n",
            "\n",
            "16/16 [==============================] - 4s 20ms/step - loss: 2.4632 - sparse_categorical_accuracy: 0.3700\n",
            "16/16 [==============================] - 4s 20ms/step - loss: 1.7326 - sparse_categorical_accuracy: 0.5440\n",
            "16/16 [==============================] - 4s 20ms/step - loss: 2.1386 - sparse_categorical_accuracy: 0.5540\n",
            "Global test:\n",
            "16/16 [==============================] - 6s 20ms/step - loss: 1.2548 - sparse_categorical_accuracy: 0.6420\n",
            "\n",
            "16/16 [==============================] - 6s 20ms/step - loss: 1.6661 - sparse_categorical_accuracy: 0.4840\n",
            "16/16 [==============================] - 4s 19ms/step - loss: 1.3601 - sparse_categorical_accuracy: 0.6460\n",
            "16/16 [==============================] - 4s 20ms/step - loss: 1.8711 - sparse_categorical_accuracy: 0.6300\n",
            "Global test:\n",
            "16/16 [==============================] - 6s 19ms/step - loss: 0.9145 - sparse_categorical_accuracy: 0.7300\n",
            "\n",
            "16/16 [==============================] - 5s 22ms/step - loss: 1.0597 - sparse_categorical_accuracy: 0.7180\n",
            "16/16 [==============================] - 6s 20ms/step - loss: 1.3685 - sparse_categorical_accuracy: 0.6620\n",
            "16/16 [==============================] - 4s 19ms/step - loss: 2.1887 - sparse_categorical_accuracy: 0.5840\n",
            "Global test:\n",
            "16/16 [==============================] - 5s 21ms/step - loss: 0.6810 - sparse_categorical_accuracy: 0.8260\n",
            "\n"
          ]
        }
      ]
    },
    {
      "cell_type": "code",
      "source": [
        "# NonIID (0.5 var), 3 agents, 5 local epochs - 6 rounds - 1h"
      ],
      "metadata": {
        "id": "h1C6F2rxpZ-Q"
      },
      "execution_count": null,
      "outputs": []
    },
    {
      "cell_type": "code",
      "source": [
        "trial = Federated(histo, 3, distribution='Non-IID', var=1)  #run this"
      ],
      "metadata": {
        "id": "3bdhpbC1sL_t"
      },
      "execution_count": null,
      "outputs": []
    },
    {
      "cell_type": "code",
      "source": [
        "trial_model = trial.CNN()"
      ],
      "metadata": {
        "id": "DyvtctodbnAH"
      },
      "execution_count": null,
      "outputs": []
    },
    {
      "cell_type": "code",
      "source": [
        "trial.AverageLearning(trial_model, rounds=10, local_epochs=5, target_acc=0.8)"
      ],
      "metadata": {
        "colab": {
          "base_uri": "https://localhost:8080/"
        },
        "id": "1noMpBdtqdL4",
        "outputId": "d31fd018-8627-47d0-a25d-4b87d7214034"
      },
      "execution_count": null,
      "outputs": [
        {
          "output_type": "stream",
          "name": "stdout",
          "text": [
            "16/16 [==============================] - 5s 32ms/step - loss: 3.8202 - sparse_categorical_accuracy: 0.3280\n",
            "16/16 [==============================] - 4s 19ms/step - loss: 6.0775 - sparse_categorical_accuracy: 0.4720\n",
            "16/16 [==============================] - 5s 19ms/step - loss: 2.5149 - sparse_categorical_accuracy: 0.3720\n",
            "Global test:\n",
            "16/16 [==============================] - 6s 19ms/step - loss: 2.3140 - sparse_categorical_accuracy: 0.1400\n",
            "\n",
            "16/16 [==============================] - 4s 19ms/step - loss: 6.3796 - sparse_categorical_accuracy: 0.4220\n",
            "16/16 [==============================] - 4s 19ms/step - loss: 3.8440 - sparse_categorical_accuracy: 0.3540\n",
            "16/16 [==============================] - 6s 19ms/step - loss: 2.3064 - sparse_categorical_accuracy: 0.3940\n",
            "Global test:\n",
            "16/16 [==============================] - 4s 19ms/step - loss: 2.3023 - sparse_categorical_accuracy: 0.3840\n",
            "\n",
            "16/16 [==============================] - 6s 18ms/step - loss: 6.9399 - sparse_categorical_accuracy: 0.1840\n",
            "16/16 [==============================] - 6s 18ms/step - loss: 9.8982 - sparse_categorical_accuracy: 0.4460\n",
            "16/16 [==============================] - 6s 19ms/step - loss: 3.1651 - sparse_categorical_accuracy: 0.2960\n",
            "Global test:\n",
            "16/16 [==============================] - 4s 20ms/step - loss: 3.1502 - sparse_categorical_accuracy: 0.3200\n",
            "\n",
            "16/16 [==============================] - 4s 18ms/step - loss: 5.5576 - sparse_categorical_accuracy: 0.3640\n",
            "16/16 [==============================] - 4s 18ms/step - loss: 6.2939 - sparse_categorical_accuracy: 0.3920\n",
            "16/16 [==============================] - 4s 18ms/step - loss: 2.1088 - sparse_categorical_accuracy: 0.5420\n",
            "Global test:\n",
            "16/16 [==============================] - 5s 20ms/step - loss: 1.9504 - sparse_categorical_accuracy: 0.4480\n",
            "\n",
            "16/16 [==============================] - 4s 20ms/step - loss: 4.1314 - sparse_categorical_accuracy: 0.4980\n",
            "16/16 [==============================] - 5s 18ms/step - loss: 3.7158 - sparse_categorical_accuracy: 0.2560\n",
            "16/16 [==============================] - 4s 18ms/step - loss: 1.4802 - sparse_categorical_accuracy: 0.6800\n",
            "Global test:\n",
            "16/16 [==============================] - 4s 18ms/step - loss: 2.5272 - sparse_categorical_accuracy: 0.4740\n",
            "\n",
            "16/16 [==============================] - 5s 18ms/step - loss: 4.5225 - sparse_categorical_accuracy: 0.3140\n",
            "16/16 [==============================] - 6s 18ms/step - loss: 2.3304 - sparse_categorical_accuracy: 0.5720\n",
            "16/16 [==============================] - 4s 19ms/step - loss: 3.8335 - sparse_categorical_accuracy: 0.2060\n",
            "Global test:\n",
            "16/16 [==============================] - 5s 19ms/step - loss: 2.1824 - sparse_categorical_accuracy: 0.4340\n",
            "\n",
            "16/16 [==============================] - 6s 18ms/step - loss: 3.0406 - sparse_categorical_accuracy: 0.4620\n",
            "16/16 [==============================] - 4s 18ms/step - loss: 5.0246 - sparse_categorical_accuracy: 0.4520\n",
            "16/16 [==============================] - 4s 18ms/step - loss: 2.1930 - sparse_categorical_accuracy: 0.4860\n",
            "Global test:\n",
            "16/16 [==============================] - 6s 18ms/step - loss: 1.5052 - sparse_categorical_accuracy: 0.6360\n",
            "\n",
            "16/16 [==============================] - 4s 18ms/step - loss: 3.2581 - sparse_categorical_accuracy: 0.5260\n",
            "16/16 [==============================] - 4s 18ms/step - loss: 10.6059 - sparse_categorical_accuracy: 0.5040\n",
            "16/16 [==============================] - 5s 20ms/step - loss: 1.9203 - sparse_categorical_accuracy: 0.5660\n",
            "Global test:\n",
            "16/16 [==============================] - 5s 19ms/step - loss: 1.3713 - sparse_categorical_accuracy: 0.5020\n",
            "\n",
            "16/16 [==============================] - 6s 21ms/step - loss: 3.4889 - sparse_categorical_accuracy: 0.4380\n",
            "16/16 [==============================] - 5s 18ms/step - loss: 2.4281 - sparse_categorical_accuracy: 0.5720\n",
            "16/16 [==============================] - 5s 20ms/step - loss: 1.7997 - sparse_categorical_accuracy: 0.5980\n",
            "Global test:\n",
            "16/16 [==============================] - 6s 18ms/step - loss: 2.9404 - sparse_categorical_accuracy: 0.5160\n",
            "\n",
            "16/16 [==============================] - 4s 18ms/step - loss: 6.4462 - sparse_categorical_accuracy: 0.3200\n",
            "16/16 [==============================] - 4s 20ms/step - loss: 3.5914 - sparse_categorical_accuracy: 0.5800\n",
            "16/16 [==============================] - 6s 20ms/step - loss: 2.3164 - sparse_categorical_accuracy: 0.5240\n",
            "Global test:\n",
            "16/16 [==============================] - 4s 19ms/step - loss: 1.5915 - sparse_categorical_accuracy: 0.4980\n",
            "\n",
            "16/16 [==============================] - 4s 21ms/step - loss: 4.4794 - sparse_categorical_accuracy: 0.3780\n",
            "16/16 [==============================] - 4s 18ms/step - loss: 4.3492 - sparse_categorical_accuracy: 0.5060\n",
            "16/16 [==============================] - 4s 19ms/step - loss: 1.8183 - sparse_categorical_accuracy: 0.5920\n",
            "Global test:\n",
            "16/16 [==============================] - 6s 22ms/step - loss: 1.8499 - sparse_categorical_accuracy: 0.5000\n",
            "\n",
            "16/16 [==============================] - 4s 19ms/step - loss: 2.3100 - sparse_categorical_accuracy: 0.4920\n",
            "16/16 [==============================] - 5s 20ms/step - loss: 3.2104 - sparse_categorical_accuracy: 0.5760\n",
            "16/16 [==============================] - 4s 19ms/step - loss: 2.4116 - sparse_categorical_accuracy: 0.4760\n",
            "Global test:\n",
            "16/16 [==============================] - 4s 18ms/step - loss: 1.2315 - sparse_categorical_accuracy: 0.6840\n",
            "\n",
            "16/16 [==============================] - 4s 22ms/step - loss: 2.5014 - sparse_categorical_accuracy: 0.5120\n",
            "16/16 [==============================] - 4s 18ms/step - loss: 2.4665 - sparse_categorical_accuracy: 0.6360\n",
            "16/16 [==============================] - 4s 18ms/step - loss: 1.7501 - sparse_categorical_accuracy: 0.6580\n",
            "Global test:\n",
            "16/16 [==============================] - 6s 19ms/step - loss: 1.3168 - sparse_categorical_accuracy: 0.5080\n",
            "\n",
            "16/16 [==============================] - 4s 19ms/step - loss: 2.7576 - sparse_categorical_accuracy: 0.5120\n",
            "16/16 [==============================] - 4s 18ms/step - loss: 4.0725 - sparse_categorical_accuracy: 0.4000\n",
            "16/16 [==============================] - 4s 19ms/step - loss: 1.9602 - sparse_categorical_accuracy: 0.5240\n",
            "Global test:\n",
            "16/16 [==============================] - 4s 18ms/step - loss: 2.1544 - sparse_categorical_accuracy: 0.5320\n",
            "\n",
            "16/16 [==============================] - 5s 22ms/step - loss: 2.0578 - sparse_categorical_accuracy: 0.5360\n",
            "16/16 [==============================] - 4s 18ms/step - loss: 4.4170 - sparse_categorical_accuracy: 0.4560\n",
            "16/16 [==============================] - 4s 19ms/step - loss: 1.8685 - sparse_categorical_accuracy: 0.6600\n",
            "Global test:\n",
            "16/16 [==============================] - 6s 19ms/step - loss: 2.1512 - sparse_categorical_accuracy: 0.5140\n",
            "\n",
            "16/16 [==============================] - 5s 18ms/step - loss: 2.0028 - sparse_categorical_accuracy: 0.5500\n",
            "16/16 [==============================] - 4s 19ms/step - loss: 5.0392 - sparse_categorical_accuracy: 0.3700\n",
            "16/16 [==============================] - 6s 18ms/step - loss: 1.9659 - sparse_categorical_accuracy: 0.6240\n",
            "Global test:\n",
            "16/16 [==============================] - 4s 18ms/step - loss: 1.6675 - sparse_categorical_accuracy: 0.5660\n",
            "\n",
            "16/16 [==============================] - 5s 18ms/step - loss: 2.4443 - sparse_categorical_accuracy: 0.5340\n",
            "16/16 [==============================] - 5s 18ms/step - loss: 3.2204 - sparse_categorical_accuracy: 0.5300\n",
            "16/16 [==============================] - 4s 18ms/step - loss: 1.4040 - sparse_categorical_accuracy: 0.7460\n",
            "Global test:\n",
            "16/16 [==============================] - 4s 19ms/step - loss: 0.8029 - sparse_categorical_accuracy: 0.7980\n",
            "\n",
            "16/16 [==============================] - 4s 19ms/step - loss: 3.1028 - sparse_categorical_accuracy: 0.4940\n",
            "16/16 [==============================] - 4s 19ms/step - loss: 3.1667 - sparse_categorical_accuracy: 0.6080\n",
            "16/16 [==============================] - 4s 19ms/step - loss: 1.3588 - sparse_categorical_accuracy: 0.7340\n",
            "Global test:\n",
            "16/16 [==============================] - 5s 20ms/step - loss: 0.9867 - sparse_categorical_accuracy: 0.7460\n",
            "\n",
            "16/16 [==============================] - 4s 18ms/step - loss: 3.2762 - sparse_categorical_accuracy: 0.4000\n",
            "16/16 [==============================] - 4s 20ms/step - loss: 2.7711 - sparse_categorical_accuracy: 0.6380\n",
            "16/16 [==============================] - 5s 20ms/step - loss: 1.8321 - sparse_categorical_accuracy: 0.6880\n",
            "Global test:\n",
            "16/16 [==============================] - 5s 18ms/step - loss: 1.3694 - sparse_categorical_accuracy: 0.6820\n",
            "\n",
            "16/16 [==============================] - 4s 19ms/step - loss: 2.5412 - sparse_categorical_accuracy: 0.5660\n",
            "16/16 [==============================] - 4s 18ms/step - loss: 2.9582 - sparse_categorical_accuracy: 0.5700\n",
            "16/16 [==============================] - 6s 18ms/step - loss: 2.0845 - sparse_categorical_accuracy: 0.6040\n",
            "Global test:\n",
            "16/16 [==============================] - 5s 20ms/step - loss: 0.9823 - sparse_categorical_accuracy: 0.7500\n",
            "\n",
            "16/16 [==============================] - 6s 18ms/step - loss: 2.4099 - sparse_categorical_accuracy: 0.5060\n",
            "16/16 [==============================] - 5s 19ms/step - loss: 2.7363 - sparse_categorical_accuracy: 0.5680\n",
            "16/16 [==============================] - 4s 19ms/step - loss: 1.5781 - sparse_categorical_accuracy: 0.7600\n",
            "Global test:\n",
            "16/16 [==============================] - 6s 19ms/step - loss: 0.7371 - sparse_categorical_accuracy: 0.8020\n",
            "\n"
          ]
        }
      ]
    },
    {
      "cell_type": "code",
      "source": [
        "trial.shards_size"
      ],
      "metadata": {
        "colab": {
          "base_uri": "https://localhost:8080/"
        },
        "id": "AP81WQLlszUs",
        "outputId": "a0e22436-6a6f-47e6-fdde-a22b583522bd"
      },
      "execution_count": null,
      "outputs": [
        {
          "output_type": "execute_result",
          "data": {
            "text/plain": [
              "{0: [244, 0, 228, 0, 85, 123, 155, 0],\n",
              " 1: [227, 258, 169, 286, 205, 447, 0, 0],\n",
              " 2: [91, 298, 158, 270, 280, 0, 410, 566]}"
            ]
          },
          "metadata": {},
          "execution_count": 19
        }
      ]
    },
    {
      "cell_type": "code",
      "source": [
        "obs_per_agent = [sum(trial.shards_size[a]) for a in range(3)]\n",
        "obs_per_agent"
      ],
      "metadata": {
        "colab": {
          "base_uri": "https://localhost:8080/"
        },
        "id": "yGKpMQkQscgz",
        "outputId": "12e01a0b-1a7a-45b2-fc82-847c39f86cc5"
      },
      "execution_count": null,
      "outputs": [
        {
          "output_type": "execute_result",
          "data": {
            "text/plain": [
              "[835, 1592, 2073]"
            ]
          },
          "metadata": {},
          "execution_count": 20
        }
      ]
    },
    {
      "cell_type": "code",
      "source": [
        "sum(obs_per_agent)"
      ],
      "metadata": {
        "colab": {
          "base_uri": "https://localhost:8080/"
        },
        "id": "3Sq4CprzsqYy",
        "outputId": "bff5954c-193c-4da2-89bf-8e8ad250473d"
      },
      "execution_count": null,
      "outputs": [
        {
          "output_type": "execute_result",
          "data": {
            "text/plain": [
              "4500"
            ]
          },
          "metadata": {},
          "execution_count": 21
        }
      ]
    },
    {
      "cell_type": "code",
      "source": [
        "# NonIID (1 var), 3 agents, 5 local epochs - 21 rounds - 2h 56m"
      ],
      "metadata": {
        "id": "cbWyor0gssOI"
      },
      "execution_count": null,
      "outputs": []
    },
    {
      "cell_type": "code",
      "source": [
        "trial = Federated(histo, 3, distribution='Non-IID', var=0.2)  #run this"
      ],
      "metadata": {
        "id": "l77FiaVy0i6J"
      },
      "execution_count": null,
      "outputs": []
    },
    {
      "cell_type": "code",
      "source": [
        "trial_model = trial.CNN()"
      ],
      "metadata": {
        "id": "zQl8x918AA5W"
      },
      "execution_count": null,
      "outputs": []
    },
    {
      "cell_type": "code",
      "source": [
        "trial.AverageLearning(trial_model, rounds=10, local_epochs=5, target_acc=0.8)"
      ],
      "metadata": {
        "colab": {
          "base_uri": "https://localhost:8080/"
        },
        "id": "agcAF_qHAA74",
        "outputId": "1a0635fc-b694-43f8-9f2b-55c51ff175c3"
      },
      "execution_count": null,
      "outputs": [
        {
          "output_type": "stream",
          "name": "stdout",
          "text": [
            "16/16 [==============================] - 5s 33ms/step - loss: 2.8400 - sparse_categorical_accuracy: 0.4700\n",
            "16/16 [==============================] - 4s 18ms/step - loss: 1.6908 - sparse_categorical_accuracy: 0.4100\n",
            "16/16 [==============================] - 6s 19ms/step - loss: 1.3362 - sparse_categorical_accuracy: 0.5740\n",
            "Global test:\n",
            "16/16 [==============================] - 4s 19ms/step - loss: 2.0645 - sparse_categorical_accuracy: 0.3740\n",
            "\n",
            "16/16 [==============================] - 4s 20ms/step - loss: 3.3840 - sparse_categorical_accuracy: 0.3060\n",
            "16/16 [==============================] - 6s 19ms/step - loss: 1.8585 - sparse_categorical_accuracy: 0.5000\n",
            "16/16 [==============================] - 4s 19ms/step - loss: 1.0128 - sparse_categorical_accuracy: 0.7100\n",
            "Global test:\n",
            "16/16 [==============================] - 6s 19ms/step - loss: 1.7035 - sparse_categorical_accuracy: 0.5260\n",
            "\n",
            "16/16 [==============================] - 6s 19ms/step - loss: 1.8273 - sparse_categorical_accuracy: 0.5740\n",
            "16/16 [==============================] - 4s 20ms/step - loss: 1.2724 - sparse_categorical_accuracy: 0.5880\n",
            "16/16 [==============================] - 5s 21ms/step - loss: 4.9749 - sparse_categorical_accuracy: 0.4760\n",
            "Global test:\n",
            "16/16 [==============================] - 4s 20ms/step - loss: 0.8720 - sparse_categorical_accuracy: 0.7740\n",
            "\n",
            "16/16 [==============================] - 4s 19ms/step - loss: 3.0522 - sparse_categorical_accuracy: 0.3780\n",
            "16/16 [==============================] - 4s 19ms/step - loss: 2.3852 - sparse_categorical_accuracy: 0.5580\n",
            "16/16 [==============================] - 6s 20ms/step - loss: 1.9597 - sparse_categorical_accuracy: 0.4960\n",
            "Global test:\n",
            "16/16 [==============================] - 4s 19ms/step - loss: 0.9303 - sparse_categorical_accuracy: 0.6860\n",
            "\n",
            "16/16 [==============================] - 6s 19ms/step - loss: 2.3603 - sparse_categorical_accuracy: 0.5500\n",
            "16/16 [==============================] - 4s 19ms/step - loss: 1.1617 - sparse_categorical_accuracy: 0.6320\n",
            "16/16 [==============================] - 4s 23ms/step - loss: 1.1801 - sparse_categorical_accuracy: 0.6840\n",
            "Global test:\n",
            "16/16 [==============================] - 5s 19ms/step - loss: 0.9615 - sparse_categorical_accuracy: 0.7080\n",
            "\n",
            "16/16 [==============================] - 5s 20ms/step - loss: 0.7119 - sparse_categorical_accuracy: 0.8260\n",
            "16/16 [==============================] - 4s 19ms/step - loss: 1.0760 - sparse_categorical_accuracy: 0.6760\n",
            "16/16 [==============================] - 5s 22ms/step - loss: 10.9266 - sparse_categorical_accuracy: 0.4780\n",
            "Global test:\n",
            "16/16 [==============================] - 5s 20ms/step - loss: 0.6203 - sparse_categorical_accuracy: 0.8360\n",
            "\n"
          ]
        }
      ]
    },
    {
      "cell_type": "code",
      "source": [
        "# NonIID (0.2 var), 3 agents, 5 local epochs - 6 rounds - 50m (first weights saved attempt)"
      ],
      "metadata": {
        "id": "bLvJuiQeAA-i"
      },
      "execution_count": null,
      "outputs": []
    },
    {
      "cell_type": "code",
      "source": [],
      "metadata": {
        "id": "YFl5bjWsABAk"
      },
      "execution_count": null,
      "outputs": []
    },
    {
      "cell_type": "code",
      "source": [
        "##############################################################\n",
        "##############################################################"
      ],
      "metadata": {
        "id": "kROa5sJx8CcM"
      },
      "execution_count": null,
      "outputs": []
    },
    {
      "cell_type": "code",
      "source": [
        "trial = Federated(histo, 3, distribution='Non-IID', var=0.2)  #run this\n",
        "trial_model = trial.CNN()\n",
        "trial.AverageLearning(trial_model, rounds=1, local_epochs=3)"
      ],
      "metadata": {
        "colab": {
          "base_uri": "https://localhost:8080/"
        },
        "id": "mg2C0gYE1GfA",
        "outputId": "f3a8070f-ea9e-463e-a02b-20a9900dec93"
      },
      "execution_count": null,
      "outputs": [
        {
          "output_type": "stream",
          "name": "stdout",
          "text": [
            "16/16 [==============================] - 5s 33ms/step - loss: 1.3597 - sparse_categorical_accuracy: 0.5560\n",
            "16/16 [==============================] - 5s 23ms/step - loss: 2.1989 - sparse_categorical_accuracy: 0.3700\n",
            "16/16 [==============================] - 6s 19ms/step - loss: 3.3623 - sparse_categorical_accuracy: 0.2260\n",
            "Global test:\n",
            "16/16 [==============================] - 4s 22ms/step - loss: 2.3528 - sparse_categorical_accuracy: 0.2760\n",
            "\n"
          ]
        }
      ]
    },
    {
      "cell_type": "code",
      "source": [
        "trial = Federated(histo, 3, distribution='Non-IID', var=0.2)  #run this\n",
        "trial_model = trial.CNN()\n",
        "trial.AverageLearning(trial_model, rounds=1, local_epochs=3)"
      ],
      "metadata": {
        "colab": {
          "base_uri": "https://localhost:8080/"
        },
        "id": "b532NGLq240C",
        "outputId": "a720935a-de2a-4eda-95bf-34279fec7b43"
      },
      "execution_count": null,
      "outputs": [
        {
          "output_type": "stream",
          "name": "stdout",
          "text": [
            "16/16 [==============================] - 7s 33ms/step - loss: 1.3278 - sparse_categorical_accuracy: 0.6560\n",
            "16/16 [==============================] - 4s 20ms/step - loss: 2.5210 - sparse_categorical_accuracy: 0.3360\n",
            "16/16 [==============================] - 4s 19ms/step - loss: 3.3804 - sparse_categorical_accuracy: 0.2680\n",
            "Global test:\n",
            "16/16 [==============================] - 6s 18ms/step - loss: 2.3794 - sparse_categorical_accuracy: 0.2220\n",
            "\n"
          ]
        }
      ]
    },
    {
      "cell_type": "code",
      "source": [],
      "metadata": {
        "id": "BbgUBjG2Ct8h"
      },
      "execution_count": null,
      "outputs": []
    },
    {
      "cell_type": "code",
      "source": [],
      "metadata": {
        "id": "eqoyHIIgl1Js"
      },
      "execution_count": null,
      "outputs": []
    },
    {
      "cell_type": "code",
      "source": [],
      "metadata": {
        "id": "yyYvSd5Il1MC"
      },
      "execution_count": null,
      "outputs": []
    },
    {
      "cell_type": "code",
      "source": [
        "trial = Federated(histo, 3, distribution='Non-IID', var=0.2)  #run this"
      ],
      "metadata": {
        "id": "HDlxMrTpl1Od"
      },
      "execution_count": null,
      "outputs": []
    },
    {
      "cell_type": "code",
      "source": [
        "type(trial.data)"
      ],
      "metadata": {
        "colab": {
          "base_uri": "https://localhost:8080/"
        },
        "id": "Ugs3hhRBl2Lt",
        "outputId": "170d56e0-a9b3-4494-ab2d-435a7e0d42f0"
      },
      "execution_count": null,
      "outputs": [
        {
          "output_type": "execute_result",
          "data": {
            "text/plain": [
              "tensorflow.python.data.ops.map_op._MapDataset"
            ]
          },
          "metadata": {},
          "execution_count": 10
        }
      ]
    },
    {
      "cell_type": "code",
      "source": [
        "len(trial.local_train[0].take(0))"
      ],
      "metadata": {
        "colab": {
          "base_uri": "https://localhost:8080/",
          "height": 287
        },
        "id": "rAV7WyvvnW1_",
        "outputId": "60b81913-240e-42ba-a6d3-4cbab0da16b3"
      },
      "execution_count": null,
      "outputs": [
        {
          "output_type": "error",
          "ename": "TypeError",
          "evalue": "ignored",
          "traceback": [
            "\u001b[0;31m---------------------------------------------------------------------------\u001b[0m",
            "\u001b[0;31mTypeError\u001b[0m                                 Traceback (most recent call last)",
            "\u001b[0;32m<ipython-input-32-c9b58d816efe>\u001b[0m in \u001b[0;36m<cell line: 1>\u001b[0;34m()\u001b[0m\n\u001b[0;32m----> 1\u001b[0;31m \u001b[0mlen\u001b[0m\u001b[0;34m(\u001b[0m\u001b[0mtrial\u001b[0m\u001b[0;34m.\u001b[0m\u001b[0mlocal_train\u001b[0m\u001b[0;34m[\u001b[0m\u001b[0;36m0\u001b[0m\u001b[0;34m]\u001b[0m\u001b[0;34m.\u001b[0m\u001b[0mtake\u001b[0m\u001b[0;34m(\u001b[0m\u001b[0;36m0\u001b[0m\u001b[0;34m)\u001b[0m\u001b[0;34m)\u001b[0m\u001b[0;34m\u001b[0m\u001b[0;34m\u001b[0m\u001b[0m\n\u001b[0m",
            "\u001b[0;32m/usr/local/lib/python3.10/dist-packages/tensorflow/python/data/ops/dataset_ops.py\u001b[0m in \u001b[0;36m__len__\u001b[0;34m(self)\u001b[0m\n\u001b[1;32m    535\u001b[0m       \u001b[0;32mraise\u001b[0m \u001b[0mTypeError\u001b[0m\u001b[0;34m(\u001b[0m\u001b[0;34m\"The dataset is infinite.\"\u001b[0m\u001b[0;34m)\u001b[0m\u001b[0;34m\u001b[0m\u001b[0;34m\u001b[0m\u001b[0m\n\u001b[1;32m    536\u001b[0m     \u001b[0;32mif\u001b[0m \u001b[0mlength\u001b[0m\u001b[0;34m.\u001b[0m\u001b[0mnumpy\u001b[0m\u001b[0;34m(\u001b[0m\u001b[0;34m)\u001b[0m \u001b[0;34m==\u001b[0m \u001b[0mUNKNOWN\u001b[0m\u001b[0;34m:\u001b[0m\u001b[0;34m\u001b[0m\u001b[0;34m\u001b[0m\u001b[0m\n\u001b[0;32m--> 537\u001b[0;31m       \u001b[0;32mraise\u001b[0m \u001b[0mTypeError\u001b[0m\u001b[0;34m(\u001b[0m\u001b[0;34m\"The dataset length is unknown.\"\u001b[0m\u001b[0;34m)\u001b[0m\u001b[0;34m\u001b[0m\u001b[0;34m\u001b[0m\u001b[0m\n\u001b[0m\u001b[1;32m    538\u001b[0m     \u001b[0;32mreturn\u001b[0m \u001b[0mlength\u001b[0m\u001b[0;34m\u001b[0m\u001b[0;34m\u001b[0m\u001b[0m\n\u001b[1;32m    539\u001b[0m \u001b[0;34m\u001b[0m\u001b[0m\n",
            "\u001b[0;31mTypeError\u001b[0m: The dataset length is unknown."
          ]
        }
      ]
    },
    {
      "cell_type": "code",
      "source": [
        "trial_IID = Federated(histo, 3, distribution='IID', var=0.2)"
      ],
      "metadata": {
        "id": "fkISVbmnmK0u"
      },
      "execution_count": null,
      "outputs": []
    },
    {
      "cell_type": "code",
      "source": [
        "trial_IID.local_train[0].take(0)"
      ],
      "metadata": {
        "colab": {
          "base_uri": "https://localhost:8080/"
        },
        "id": "e5vngPqFmc_t",
        "outputId": "39ac042b-eb57-4a28-8448-98c308a697cd"
      },
      "execution_count": null,
      "outputs": [
        {
          "output_type": "execute_result",
          "data": {
            "text/plain": [
              "<_TakeDataset element_spec=(TensorSpec(shape=(None, 150, 150, 3), dtype=tf.float32, name=None), TensorSpec(shape=(None,), dtype=tf.int64, name=None))>"
            ]
          },
          "metadata": {},
          "execution_count": 31
        }
      ]
    },
    {
      "cell_type": "code",
      "source": [
        "trial_II"
      ],
      "metadata": {
        "id": "GTUHUnJindUN"
      },
      "execution_count": null,
      "outputs": []
    },
    {
      "cell_type": "code",
      "source": [],
      "metadata": {
        "id": "245pGXVgmkT1"
      },
      "execution_count": null,
      "outputs": []
    }
  ]
}